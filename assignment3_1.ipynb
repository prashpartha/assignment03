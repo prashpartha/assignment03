{
 "cells": [
  {
   "cell_type": "markdown",
   "metadata": {},
   "source": [
    "Write a function to compute 0/5 and use try/except to catch the exceptions."
   ]
  },
  {
   "cell_type": "code",
   "execution_count": 9,
   "metadata": {},
   "outputs": [
    {
     "name": "stdout",
     "output_type": "stream",
     "text": [
      "Enter dividend : 0\n",
      "Enter divisor : 5\n",
      "\n",
      "output of 0/5 is 0.0\n"
     ]
    }
   ],
   "source": [
    "import sys\n",
    "\n",
    "def division(a,b):\n",
    "\n",
    "    try :\n",
    "        return a/b\n",
    "    except Exception as e:\n",
    "        print(\"\\nexception : {}\".format(sys.exc_info()[1]))\n",
    "        sys.exit()\n",
    "\n",
    "def main():\n",
    "    a = int(input(\"Enter dividend : \"))\n",
    "    b = int(input(\"Enter divisor : \"))\n",
    "    result = division(a,b)\n",
    "    print(\"\\noutput of {}/{} is {}\".format(a,b,result))\n",
    "    \n",
    "if __name__  == '__main__':\n",
    "   main()"
   ]
  }
 ],
 "metadata": {
  "kernelspec": {
   "display_name": "Python 3",
   "language": "python",
   "name": "python3"
  },
  "language_info": {
   "codemirror_mode": {
    "name": "ipython",
    "version": 3
   },
   "file_extension": ".py",
   "mimetype": "text/x-python",
   "name": "python",
   "nbconvert_exporter": "python",
   "pygments_lexer": "ipython3",
   "version": "3.6.3"
  }
 },
 "nbformat": 4,
 "nbformat_minor": 2
}
